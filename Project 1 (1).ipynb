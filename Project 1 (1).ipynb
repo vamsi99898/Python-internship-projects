{
 "cells": [
  {
   "cell_type": "code",
   "execution_count": 1,
   "id": "0a8eb111-7ae9-457b-88a2-8636ee4e348a",
   "metadata": {},
   "outputs": [
    {
     "name": "stdout",
     "output_type": "stream",
     "text": [
      "Welcome to the Username Generator!\n",
      "Available patterns:\n",
      "1. Adjective + Noun + Number\n",
      "2. Verb + Adjective + Animal\n"
     ]
    },
    {
     "name": "stdin",
     "output_type": "stream",
     "text": [
      "Choose a pattern (1 or 2):  1\n",
      "How many usernames would you like to generate?  4\n"
     ]
    },
    {
     "name": "stdout",
     "output_type": "stream",
     "text": [
      "\n",
      "Generated Usernames:\n",
      "SwiftTiger43\n",
      "DancingEagle63\n",
      "SilentTiger16\n",
      "SwiftTiger21\n"
     ]
    },
    {
     "name": "stdin",
     "output_type": "stream",
     "text": [
      "\n",
      "Would you like to save the usernames to a file? (yes/no):  yes\n"
     ]
    },
    {
     "name": "stdout",
     "output_type": "stream",
     "text": [
      "Usernames saved to 'usernames.txt'.\n"
     ]
    }
   ],
   "source": [
    "import random\n",
    "\n",
    "# Lists of words\n",
    "adjectives = [\"Swift\", \"Dancing\", \"Bright\", \"Mighty\", \"Silent\"]\n",
    "nouns = [\"Penguin\", \"Fox\", \"Tiger\", \"Eagle\", \"Dragon\"]\n",
    "verbs = [\"Flying\", \"Running\", \"Jumping\", \"Singing\", \"Gliding\"]\n",
    "animals = [\"Lion\", \"Wolf\", \"Bear\", \"Hawk\", \"Shark\"]\n",
    "\n",
    "# Function to generate usernames\n",
    "def generate_usernames(pattern, count):\n",
    "    usernames = []\n",
    "    for _ in range(count):\n",
    "        if pattern == \"adjective_noun_number\":\n",
    "            username = f\"{random.choice(adjectives)}{random.choice(nouns)}{random.randint(10, 99)}\"\n",
    "        elif pattern == \"verb_adjective_animal\":\n",
    "            username = f\"{random.choice(verbs)}{random.choice(adjectives)}{random.choice(animals)}\"\n",
    "        else:\n",
    "            username = \"UnknownPattern\"\n",
    "        usernames.append(username)\n",
    "    return usernames\n",
    "\n",
    "# Main program\n",
    "def main():\n",
    "    print(\"Welcome to the Username Generator!\")\n",
    "    print(\"Available patterns:\")\n",
    "    print(\"1. Adjective + Noun + Number\")\n",
    "    print(\"2. Verb + Adjective + Animal\")\n",
    "    choice = input(\"Choose a pattern (1 or 2): \")\n",
    "    count = int(input(\"How many usernames would you like to generate? \"))\n",
    "    \n",
    "    if choice == \"1\":\n",
    "        pattern = \"adjective_noun_number\"\n",
    "    elif choice == \"2\":\n",
    "        pattern = \"verb_adjective_animal\"\n",
    "    else:\n",
    "        print(\"Invalid choice. Defaulting to pattern 1.\")\n",
    "        pattern = \"adjective_noun_number\"\n",
    "    \n",
    "    usernames = generate_usernames(pattern, count)\n",
    "    print(\"\\nGenerated Usernames:\")\n",
    "    for username in usernames:\n",
    "        print(username)\n",
    "    \n",
    "    save_option = input(\"\\nWould you like to save the usernames to a file? (yes/no): \").lower()\n",
    "    if save_option == \"yes\":\n",
    "        with open(\"usernames.txt\", \"w\") as file:\n",
    "            file.write(\"\\n\".join(usernames))\n",
    "        print(\"Usernames saved to 'usernames.txt'.\")\n",
    "\n",
    "if __name__ == \"__main__\":\n",
    "    main()\n",
    "\n"
   ]
  },
  {
   "cell_type": "code",
   "execution_count": null,
   "id": "07f6867c-f4ae-4452-883b-7efcb692d854",
   "metadata": {},
   "outputs": [],
   "source": []
  }
 ],
 "metadata": {
  "kernelspec": {
   "display_name": "Python 3 (ipykernel)",
   "language": "python",
   "name": "python3"
  },
  "language_info": {
   "codemirror_mode": {
    "name": "ipython",
    "version": 3
   },
   "file_extension": ".py",
   "mimetype": "text/x-python",
   "name": "python",
   "nbconvert_exporter": "python",
   "pygments_lexer": "ipython3",
   "version": "3.12.4"
  }
 },
 "nbformat": 4,
 "nbformat_minor": 5
}
